{
 "cells": [
  {
   "cell_type": "code",
   "execution_count": 1,
   "id": "b39ca9ba",
   "metadata": {},
   "outputs": [],
   "source": [
    "%load_ext autoreload\n",
    "%autoreload 2\n",
    "\n",
    "%load_ext dotenv\n",
    "%dotenv src/.env"
   ]
  },
  {
   "cell_type": "code",
   "execution_count": 2,
   "id": "31a7a81b",
   "metadata": {},
   "outputs": [],
   "source": [
    "import os\n",
    "os.chdir('/Users/kushagrasharma/coding/hormozlab/src')\n",
    "\n",
    "from tabulate import tabulate\n",
    "import numpy as np\n",
    "from numpy import linalg\n",
    "import pandas as pd\n",
    "import math\n",
    "import matplotlib.pyplot as plt\n",
    "import seaborn as sns\n",
    "from sklearn.metrics import mean_squared_error\n",
    "from sklearn.manifold import TSNE\n",
    "from sklearn.neighbors import kneighbors_graph, NearestNeighbors\n",
    "from sklearn.preprocessing import StandardScaler\n",
    "from sklearn.decomposition import PCA\n",
    "from scipy.stats import wasserstein_distance\n",
    "from scipy.spatial.distance import jensenshannon\n",
    "\n",
    "import torch\n",
    "import torch.nn as nn\n",
    "import torch.nn.functional as F\n",
    "import torch.optim as optim\n",
    "from torch.utils.data import DataLoader\n",
    "from torch.optim.lr_scheduler import ExponentialLR\n",
    "import torchvision\n",
    "\n",
    "from tqdm import tqdm\n",
    "\n",
    "from src.AutoEncoder import AE, Encoder, Decoder\n",
    "from src.Binary2LatentNN import Binary2LatentNN\n",
    "from src.Binary2TranscriptomeNN import Binary2TranscriptomeNN\n",
    "from src.utils import *\n",
    "\n",
    "import seaborn as sns\n",
    "%matplotlib inline"
   ]
  },
  {
   "cell_type": "code",
   "execution_count": 3,
   "id": "7b224920",
   "metadata": {},
   "outputs": [],
   "source": [
    "DATA_DIR = os.environ.get(\"DATA_DIR\")\n",
    "MODELS_DIR = os.environ.get(\"MODELS_DIR\")\n",
    "\n",
    "binary_matrix_filepath = MODELS_DIR + 'binary_matrix.npy'\n",
    "device = torch.device(\"cuda\" if torch.cuda.is_available() else \"cpu\")"
   ]
  },
  {
   "cell_type": "markdown",
   "id": "3abaf062",
   "metadata": {},
   "source": [
    "We will now display the results of our analyses. As a reminder, the goal is to determine the best method for reconstructing cell state / transcriptome data from a low-dimensional, binary combination of genes that is experimentally feasible to measure. Previous analyses have found that the particular genes and combinations that are being taken do not have a large impact on reconstruction accuracy, thus we use a preselected random matrix for all our computations, with the experimentally feasible parameters $50$ genes per combination with $10$ total binary combinations. \n",
    "\n",
    "Our primary evaluation metric is the cross-entropy between the reconstructed distribution and the ground truth distribution; the Gaussian analogue we previously constructed. Our secondary evaluation metric is the mean squared error between the ground truth transcriptome and the reconstructed transcriptome. We determine the reconstructed transcriptome by taking a weighted average of the training cells as indicated by the reconstructed distribution.\n",
    "\n",
    "For cells not in the training set that are thereby lacking a ground truth measurement (e.g. the validation and test sets), we use the closest cell in the training set to the given cell to construct a ground truth distribution to evaluate in comparison to. "
   ]
  },
  {
   "cell_type": "code",
   "execution_count": 4,
   "id": "bc65cb62",
   "metadata": {},
   "outputs": [],
   "source": [
    "### Loading Data\n",
    "binary_matrix = torch.tensor(np.load(binary_matrix_filepath)).float()\n",
    "\n",
    "train_full = pd.read_csv(DATA_DIR + 'scvi_train_set_gapdh.csv', header=None).to_numpy()\n",
    "test_full = pd.read_csv(DATA_DIR + 'scvi_test_set_gapdh.csv', header=None).to_numpy()\n",
    "valid_full = pd.read_csv(DATA_DIR + 'scvi_valid_set_gapdh.csv', header=None).to_numpy()\n",
    "\n",
    "train_umap = pd.read_csv(DATA_DIR + 'train_coords.csv', header=None).to_numpy()\n",
    "test_umap = pd.read_csv(DATA_DIR + 'test_coords.csv', header=None).to_numpy()\n",
    "valid_umap = pd.read_csv(DATA_DIR + 'valid_coords.csv', header=None).to_numpy()\n",
    "\n",
    "train_tensor = torch.tensor(train_full).float()\n",
    "valid_tensor = torch.tensor(valid_full).float()\n",
    "test_tensor = torch.tensor(test_full).float()\n",
    "\n",
    "train_binary_tensor = torch.matmul(train_tensor, binary_matrix)\n",
    "valid_binary_tensor = torch.matmul(valid_tensor, binary_matrix)\n",
    "test_binary_tensor = torch.matmul(test_tensor, binary_matrix)\n",
    "\n",
    "closest_cell_to_valid = np.load(DATA_DIR + 'closest_cell_to_valid.npy')\n",
    "closest_cell_to_test = np.load(DATA_DIR + 'closest_cell_to_test.npy')\n",
    "\n",
    "gaussian_train = np.load(DATA_DIR + 'gaussian_train.npy')\n",
    "gaussian_valid = np.load(DATA_DIR + 'gaussian_valid.npy')\n",
    "gaussian_test = np.load(DATA_DIR + 'gaussian_test.npy')\n",
    "\n",
    "graph = np.load(DATA_DIR + \"adjacency_15NN.npy\")\n",
    "\n",
    "N_train_cells = len(graph)\n",
    "N_test_cells = len(test_tensor)\n",
    "\n",
    "### Get Laplacian\n",
    "laplacian_all = np.load(DATA_DIR + 'laplacian_matrix.npy')\n",
    "\n",
    "### Compute eigen\n",
    "v_all = np.load(DATA_DIR + 'laplacian_eigenvectors.npy')"
   ]
  },
  {
   "cell_type": "markdown",
   "id": "48182232",
   "metadata": {},
   "source": [
    "## Distribution Reconstruction\n",
    "We begin with our primary evaluation, the distribution reconstruction. We're testing the following methods' reconstruction accuracy (all beginning with the binary linear combination of genes):\n",
    "1. Using a neural network to reconstruct the first 100 Laplacian eigenvalues, and then using the Laplacian eigenfunctions to reconstruct the distribution\n",
    "2. Using a neural network to reconstruct the whole transcriptome, then using the transcriptome to reconstruct a distribution over cells\n",
    "3. Using a neural network to reconstruct the whole transcriptome, then using a neural network to reconstruct the first 100 Laplacian eigenvalues, and then using the Laplacian eigenfunctions to reconstruct the distribution\n",
    "4. Using a neural network to directly reconstruct the distribution over cells\n",
    "\n",
    "We're comparing these methods to the following positive control: using the true first 3000 Laplacian eigenvalues, and then using the Laplacian eigenfunctions to reconstruct the distribution\n",
    "\n",
    "And the following negative controls:\n",
    "1. A uniform distribution over cells \n",
    "2. A random distribution over cells, $p(i)\\propto R$ where $R$ is a random real number in $[0,1]$"
   ]
  },
  {
   "cell_type": "code",
   "execution_count": 5,
   "id": "3cd1e290",
   "metadata": {},
   "outputs": [],
   "source": [
    "### Load Models\n",
    "\n",
    "binaryToLaplacian50 = torch.load(MODELS_DIR + 'binaryToLaplacian50Coeffs.pt').eval()\n",
    "binaryToLaplacian3595 = torch.load(MODELS_DIR + 'binaryToLaplacian3595Coeffs.pt').eval()\n",
    "binaryToTome = torch.load(MODELS_DIR + 'binaryToTomeNoBottleneck.pt').eval()\n",
    "tomeToLaplacian = torch.load(MODELS_DIR + 'tomeToLaplacian.pt').eval()\n",
    "binaryToGaussian = torch.load(MODELS_DIR + 'binaryToGaussian.pt').eval()\n",
    "tomeToGaussian = torch.load(MODELS_DIR + 'tomeToGaussian.pt').eval()"
   ]
  },
  {
   "cell_type": "code",
   "execution_count": 6,
   "id": "baa1892c",
   "metadata": {},
   "outputs": [],
   "source": [
    "### Methods\n",
    "toGraph = lambda X: np.apply_along_axis(lambda y: laplacian_coefficients_to_probability(y, v_all), 1, X)\n",
    "toTensor = lambda x: torch.tensor(x).float()\n",
    "\n",
    "## Error metrics\n",
    "fn_on_matrix = lambda fn: lambda Y, Yhat: np.array([fn(Y[i,:], Yhat[i,:]) for i in range(len(Y))])\n",
    "wassersteinOnMatrix = fn_on_matrix(wasserstein_distance)\n",
    "jsOnMatrix = fn_on_matrix(jensenshannon)\n",
    "\n",
    "# Using a neural network to reconstruct the first 100 Laplacian eigenvalues\n",
    "# Then using the Laplacian eigenfunctions to reconstruct the distribution\n",
    "dist_one = [binaryToLaplacian50, toGraph]\n",
    "\n",
    "dist_two = [binaryToLaplacian3595, toGraph]\n",
    "\n",
    "# Using a neural network to reconstruct the whole transcriptome\n",
    "# Then using the transcriptome to reconstruct a distribution over cells\n",
    "dist_three = [binaryToTome, tomeToGaussian, normalize]\n",
    "\n",
    "# Using a neural network to reconstruct the whole transcriptome \n",
    "# Then using a neural network to reconstruct the first 100 Laplacian eigenvalues\n",
    "# Then using the Laplacian eigenfunctions to reconstruct the distribution\n",
    "\n",
    "dist_four = [binaryToTome, tomeToLaplacian, toGraph]\n",
    "\n",
    "# Using a neural network to directly reconstruct the distribution over cells\n",
    "\n",
    "dist_five = [binaryToGaussian, lambda x: np.exp(x), normalize]\n",
    "\n",
    "### Positive controls\n",
    "train_pca = np.load(DATA_DIR + 'train_100_pca.npy')\n",
    "test_pca = train_pca[closest_cell_to_test,:]\n",
    "test_pca = toTensor(test_pca)\n",
    "\n",
    "test_laplacian_coeffs = np.array([get_laplacian_coefficients(gaussian_test[i,:], \n",
    "                                                      v_all)[:3000] for i in range(len(gaussian_test))])\n",
    "test_laplacian_coeffs = toTensor(test_laplacian_coeffs)\n",
    "\n",
    "### Negative controls\n",
    "\n",
    "dist_nc_one = np.ones(N_train_cells) / N_train_cells\n",
    "dist_nc_one = np.tile(dist_nc_one, (N_test_cells, 1))\n",
    "dist_nc_one = toTensor(dist_nc_one)\n",
    "\n",
    "dist_nc_two = np.random.rand(N_test_cells, N_train_cells)\n",
    "row_sums = dist_nc_two.sum(axis=1)\n",
    "dist_nc_two = dist_nc_two / row_sums[:, np.newaxis]\n",
    "dist_nc_two = toTensor(dist_nc_two)\n",
    "del row_sums"
   ]
  },
  {
   "cell_type": "code",
   "execution_count": 7,
   "id": "61385331",
   "metadata": {},
   "outputs": [],
   "source": [
    "dist_error_metric = lambda Y, Yh: jsOnMatrix(Y, Yh).mean()\n",
    "\n",
    "with torch.no_grad():\n",
    "    ### Methods\n",
    "    dist_one_results, dist_one_error = transform_and_compute_error(test_binary_tensor, gaussian_test, \n",
    "                                            dist_one, dist_error_metric)\n",
    "\n",
    "    dist_two_results, dist_two_error = transform_and_compute_error(test_binary_tensor, gaussian_test, \n",
    "                                            dist_two, dist_error_metric)\n",
    "    \n",
    "    dist_three_results, dist_three_error = transform_and_compute_error(test_binary_tensor, gaussian_test, \n",
    "                                            dist_three, dist_error_metric)\n",
    "    \n",
    "    dist_four_results, dist_four_error = transform_and_compute_error(test_binary_tensor, gaussian_test, \n",
    "                                            dist_four, dist_error_metric)\n",
    "    \n",
    "    dist_five_results, dist_five_error = transform_and_compute_error(test_binary_tensor, gaussian_test, \n",
    "                                            dist_five, dist_error_metric)\n",
    "    \n",
    "    ### Positive controls\n",
    "    dist_pc_results, dist_pc_error = transform_and_compute_error(test_laplacian_coeffs, gaussian_test, \n",
    "                                         [toGraph], dist_error_metric)\n",
    "    \n",
    "    ### Negative controls\n",
    "    dist_nc_one_error = dist_error_metric(dist_nc_one, gaussian_test)\n",
    "    \n",
    "    dist_nc_two_error = dist_error_metric(dist_nc_two, gaussian_test)"
   ]
  },
  {
   "cell_type": "code",
   "execution_count": 8,
   "id": "5f88c391",
   "metadata": {},
   "outputs": [
    {
     "data": {
      "image/png": "[encoded data removed]",
      "text/plain": [
       "<Figure size 432x288 with 1 Axes>"
      ]
     },
     "metadata": {
      "needs_background": "light"
     },
     "output_type": "display_data"
    }
   ],
   "source": [
    "dist_labels = [\"M1\", 'M2', 'M3', 'M4', 'M5', 'PC', 'NC1', 'NC2']\n",
    "dist_errors = [dist_one_error, dist_two_error, dist_three_error, dist_four_error, dist_five_error, dist_pc_error, \n",
    "          dist_nc_one_error, dist_nc_two_error]\n",
    "dist_errors = [x / dist_nc_one_error for x in dist_errors]\n",
    "plt.bar(dist_labels, dist_errors)\n",
    "plt.xlabel(\"Method\")\n",
    "plt.ylabel(\"Cross Entropy Loss\")\n",
    "plt.title(\"Method vs JS Divergence for Gaussian Reconstruction, Scaled by NC1\")\n",
    "\n",
    "plt.show()"
   ]
  },
  {
   "cell_type": "code",
   "execution_count": 9,
   "id": "a2a66a29",
   "metadata": {},
   "outputs": [
    {
     "data": {
      "text/html": [
       "<div>\n",
       "<style scoped>\n",
       "    .dataframe tbody tr th:only-of-type {\n",
       "        vertical-align: middle;\n",
       "    }\n",
       "\n",
       "    .dataframe tbody tr th {\n",
       "        vertical-align: top;\n",
       "    }\n",
       "\n",
       "    .dataframe thead th {\n",
       "        text-align: right;\n",
       "    }\n",
       "</style>\n",
       "<table border=\"1\" class=\"dataframe\">\n",
       "  <thead>\n",
       "    <tr style=\"text-align: right;\">\n",
       "      <th></th>\n",
       "      <th>M1</th>\n",
       "      <th>M2</th>\n",
       "      <th>M3</th>\n",
       "      <th>M4</th>\n",
       "      <th>M5</th>\n",
       "      <th>PC</th>\n",
       "      <th>NC1</th>\n",
       "      <th>NC2</th>\n",
       "    </tr>\n",
       "  </thead>\n",
       "  <tbody>\n",
       "    <tr>\n",
       "      <th>error</th>\n",
       "      <td>0.914076</td>\n",
       "      <td>0.996678</td>\n",
       "      <td>1.000367</td>\n",
       "      <td>1.002029</td>\n",
       "      <td>0.812129</td>\n",
       "      <td>0.358825</td>\n",
       "      <td>1.0</td>\n",
       "      <td>1.000214</td>\n",
       "    </tr>\n",
       "  </tbody>\n",
       "</table>\n",
       "</div>"
      ],
      "text/plain": [
       "             M1        M2        M3        M4        M5        PC  NC1  \\\n",
       "error  0.914076  0.996678  1.000367  1.002029  0.812129  0.358825  1.0   \n",
       "\n",
       "            NC2  \n",
       "error  1.000214  "
      ]
     },
     "execution_count": 9,
     "metadata": {},
     "output_type": "execute_result"
    }
   ],
   "source": [
    "pd.DataFrame([dist_errors], columns=dist_labels, index=['error'])"
   ]
  },
  {
   "cell_type": "markdown",
   "id": "06c76640",
   "metadata": {},
   "source": [
    "| Method Code | Description                                           |\n",
    "|-------------|-------------------------------------------------------|\n",
    "| M1          | NN Reconstruction of 50 Laplacian Coeff.              |\n",
    "| M2          | NN Reconstruction of 3595 Laplacian Coeff.            |\n",
    "| M3          | NN T-ome Reconstruction, then NN Dist. Reconstruction |\n",
    "| M4          | NN T-ome Reconstruction -> NN Laplacian Coeff.        |\n",
    "| M5          | NN Dist. Reconstruction                               |\n",
    "| PC          | Positive Control: 100 Laplacian Coeff.                |\n",
    "| NC1         | Negative Control: Uniform Dist.                       |\n",
    "| NC2         | Negative Control: Random Dist.                        |"
   ]
  },
  {
   "cell_type": "markdown",
   "id": "dd8c8f33",
   "metadata": {},
   "source": [
    "Finally, we examine the CDF of the JS Divergence for our two best methods, M1 and M5, against the CDF of the JS Divergence using different numbers' of true Laplacian coefficients, as well as a negative control."
   ]
  },
  {
   "cell_type": "code",
   "execution_count": null,
   "id": "a15bb66a",
   "metadata": {},
   "outputs": [],
   "source": []
  },
  {
   "cell_type": "code",
   "execution_count": null,
   "id": "3c2fd962",
   "metadata": {},
   "outputs": [],
   "source": []
  },
  {
   "cell_type": "code",
   "execution_count": null,
   "id": "48358767",
   "metadata": {},
   "outputs": [],
   "source": []
  },
  {
   "cell_type": "code",
   "execution_count": null,
   "id": "8b337100",
   "metadata": {},
   "outputs": [],
   "source": []
  },
  {
   "cell_type": "code",
   "execution_count": null,
   "id": "0f7960bd",
   "metadata": {},
   "outputs": [],
   "source": []
  },
  {
   "cell_type": "code",
   "execution_count": null,
   "id": "291e72cd",
   "metadata": {},
   "outputs": [],
   "source": []
  },
  {
   "cell_type": "code",
   "execution_count": null,
   "id": "ddb1297f",
   "metadata": {},
   "outputs": [],
   "source": []
  },
  {
   "cell_type": "code",
   "execution_count": null,
   "id": "78a4ac15",
   "metadata": {},
   "outputs": [],
   "source": []
  },
  {
   "cell_type": "markdown",
   "id": "cdf6c508",
   "metadata": {},
   "source": [
    "## Transcriptome Reconstruction\n",
    "Next is our secondary evaluation, the transcriptome reconstruction, using mean squared error loss. We're testing the following methods' reconstruction accuracy (all beginning with the binary linear combination of genes):\n",
    "1. Using a neural network to reconstruct the first 50 Laplacian eigenvalues, then using the Laplacian eigenfunctions to reconstruct the distribution, then taking a weighted average of the transcriptomes of cells in the distribution\n",
    "2. Using a neural network to reconstruct the first 50 Laplacian eigenvalues, then using a neural network to reconstruct the whole transcriptome\n",
    "3. Using a neural network to directly reconstruct the whole transcriptome\n",
    "4. Using a bottlenecked neural network to reconstruct the whole transcriptome\n",
    "\n",
    "We're comparing these methods to the following positive controls:\n",
    "1. The ground truth transcriptome with multivariate Gaussian noise, with standard deviation calculated from each gene's expression levels\n",
    "2. Using the true first 50 Laplacian eigenvalues, followed by a neural network reconstruction of the transcriptome\n",
    "\n",
    "And the following negative controls:\n",
    "1. The average transcriptome of all cells on the graph\n",
    "2. A random transcriptome drawn from a multivariate Gaussian centered on the average transcriptome with standard deviation calculated from each gene's expression levels\n",
    "3. A random cell's transcriptome drawn from the training set"
   ]
  },
  {
   "cell_type": "code",
   "execution_count": 27,
   "id": "08dccc8a",
   "metadata": {},
   "outputs": [],
   "source": [
    "### Precompute some data\n",
    "covariance = np.diag(np.std(train_full, axis=0))\n",
    "gaussian_noise = np.random.multivariate_normal(np.zeros(len(covariance)), covariance)"
   ]
  },
  {
   "cell_type": "code",
   "execution_count": 28,
   "id": "4f622186",
   "metadata": {},
   "outputs": [],
   "source": [
    "## Load New Models\n",
    "laplacianToTome50 = torch.load(MODELS_DIR + 'laplacianToTome50Coeffs.pt').eval()\n",
    "PCAToTome = torch.load(MODELS_DIR + 'PCAToTome.pt').eval()\n",
    "binaryToTomeBottlenecked = torch.load(MODELS_DIR + 'binaryToTomeBottlenecked.pt').eval()"
   ]
  },
  {
   "cell_type": "code",
   "execution_count": 29,
   "id": "e1ae2d08",
   "metadata": {},
   "outputs": [],
   "source": [
    "### Methods\n",
    "\n",
    "toTome = lambda X: np.array([graph_to_tome_space(train_full, X[i,:], weighted=True) for i in range(len(X))])\n",
    "\n",
    "## Methods to Compare\n",
    "\n",
    "tome_one = [binaryToLaplacian50, toGraph, toTome]\n",
    "\n",
    "tome_two = [binaryToLaplacian50, laplacianToTome]\n",
    "\n",
    "tome_three = [binaryToTome]\n",
    "\n",
    "tome_four = [binaryToTomeBottlenecked]\n",
    "\n",
    "## Positive Controls\n",
    "\n",
    "tome_pc_one = test_full + gaussian_noise\n",
    "\n",
    "tome_pc_two = [laplacianToTome]\n",
    "\n",
    "## Negative Controls\n",
    "\n",
    "tome_nc_one = train_full.mean(axis=0)\n",
    "tome_nc_one = np.tile(tome_nc_one, (N_test_cells, 1))\n",
    "\n",
    "tome_nc_two = np.random.multivariate_normal(train_full.mean(axis=0), covariance)\n",
    "tome_nc_two = np.tile(tome_nc_two, (N_test_cells, 1))\n",
    "\n",
    "tome_nc_three = train_full[np.random.choice(np.arange(len(train_full)),len(test_full)),:]"
   ]
  },
  {
   "cell_type": "code",
   "execution_count": 30,
   "id": "655f372c",
   "metadata": {},
   "outputs": [],
   "source": [
    "with torch.no_grad():\n",
    "    ### Methods\n",
    "    tome_one_results, tome_one_error = transform_and_compute_error(test_binary_tensor, test_full, \n",
    "                                            tome_one, mean_squared_error)\n",
    "\n",
    "    tome_two_results, tome_two_error = transform_and_compute_error(test_binary_tensor, test_full, \n",
    "                                            tome_two, mean_squared_error)\n",
    "    \n",
    "    tome_three_results, tome_three_error = transform_and_compute_error(test_binary_tensor, test_full, \n",
    "                                            tome_three, mean_squared_error)\n",
    "    \n",
    "    tome_four_results, tome_four_error = transform_and_compute_error(test_binary_tensor, test_full, \n",
    "                                            tome_four, mean_squared_error)\n",
    "    \n",
    "    ### Positive controls\n",
    "    tome_pc_one_error = mean_squared_error(tome_pc_one, test_full)\n",
    "    \n",
    "    tome_pc_two_results, tome_pc_two_error = transform_and_compute_error(test_laplacian_coeffs[:,:50], test_full, \n",
    "                                         tome_pc_two, mean_squared_error)\n",
    "    \n",
    "    ### Negative controls\n",
    "    tome_nc_one_error = mean_squared_error(tome_nc_one, test_full)\n",
    "    \n",
    "    tome_nc_two_error = mean_squared_error(tome_nc_two, test_full)\n",
    "    \n",
    "    tome_nc_three_error = mean_squared_error(tome_nc_three, test_full)"
   ]
  },
  {
   "cell_type": "code",
   "execution_count": 31,
   "id": "acc166d5",
   "metadata": {},
   "outputs": [
    {
     "data": {
      "image/png": "[encoded data removed]",
      "text/plain": [
       "<Figure size 432x288 with 1 Axes>"
      ]
     },
     "metadata": {
      "needs_background": "light"
     },
     "output_type": "display_data"
    }
   ],
   "source": [
    "tome_labels = [\"M1\", 'M2', 'M3', 'M4', 'PC1', 'PC2', 'NC1', 'NC2', 'NC3']\n",
    "tome_errors = [tome_one_error, tome_two_error, tome_three_error, tome_four_error, tome_pc_one_error, \n",
    "          tome_pc_two_error, tome_nc_one_error, tome_nc_two_error, tome_nc_three_error]\n",
    "tome_errors = [x / tome_nc_three_error for x in tome_errors]\n",
    "plt.bar(tome_labels, tome_errors)\n",
    "plt.xlabel(\"Method\")\n",
    "plt.ylabel(\"MSE\")\n",
    "plt.title(\"Method vs MSE for Transcriptome Reconstruction, Scaled by NC3\")\n",
    "\n",
    "plt.show()"
   ]
  },
  {
   "cell_type": "markdown",
   "id": "055d0665",
   "metadata": {},
   "source": [
    "| Method Code | Description                                                                   |\n",
    "|-------------|-------------------------------------------------------------------------------|\n",
    "| M1          | NN Reconstruction of 50 Laplacian Coeff. -> Weighted Average of Distribution |\n",
    "| M2          | NN Reconstruction of 50 Laplacian Coeff. -> NN Transcriptome Reconstruction  |\n",
    "| M3          | NN Transcriptome Reconstruction                                               |\n",
    "| M4          | Bottlenecked NN Transcriptome Reconstruction                                  |\n",
    "| PC1         | Positive Control: Ground Truth Transcriptome with Gaussian Noise              |\n",
    "| PC2         | Positive Control: 3000 Laplacian Coeff. + NN                                   |\n",
    "| NC1         | Negative Control: The Average Transcriptome                                   |\n",
    "| NC2         | Negative Control: A Random Transcriptome from a Multivariate Gaussian         |\n",
    "| NC3         | Negative Control: A Randomly Sampled Transcriptome                            |"
   ]
  },
  {
   "cell_type": "code",
   "execution_count": 33,
   "id": "4b36bb95",
   "metadata": {},
   "outputs": [
    {
     "data": {
      "text/html": [
       "<div>\n",
       "<style scoped>\n",
       "    .dataframe tbody tr th:only-of-type {\n",
       "        vertical-align: middle;\n",
       "    }\n",
       "\n",
       "    .dataframe tbody tr th {\n",
       "        vertical-align: top;\n",
       "    }\n",
       "\n",
       "    .dataframe thead th {\n",
       "        text-align: right;\n",
       "    }\n",
       "</style>\n",
       "<table border=\"1\" class=\"dataframe\">\n",
       "  <thead>\n",
       "    <tr style=\"text-align: right;\">\n",
       "      <th></th>\n",
       "      <th>M1</th>\n",
       "      <th>M2</th>\n",
       "      <th>M3</th>\n",
       "      <th>M4</th>\n",
       "      <th>PC1</th>\n",
       "      <th>PC2</th>\n",
       "      <th>NC1</th>\n",
       "      <th>NC2</th>\n",
       "      <th>NC3</th>\n",
       "    </tr>\n",
       "  </thead>\n",
       "  <tbody>\n",
       "    <tr>\n",
       "      <th>error</th>\n",
       "      <td>0.178434</td>\n",
       "      <td>0.658742</td>\n",
       "      <td>0.648937</td>\n",
       "      <td>0.663617</td>\n",
       "      <td>0.476372</td>\n",
       "      <td>0.65872</td>\n",
       "      <td>0.476867</td>\n",
       "      <td>1.013104</td>\n",
       "      <td>1.0</td>\n",
       "    </tr>\n",
       "  </tbody>\n",
       "</table>\n",
       "</div>"
      ],
      "text/plain": [
       "             M1        M2        M3        M4       PC1      PC2       NC1  \\\n",
       "error  0.178434  0.658742  0.648937  0.663617  0.476372  0.65872  0.476867   \n",
       "\n",
       "            NC2  NC3  \n",
       "error  1.013104  1.0  "
      ]
     },
     "execution_count": 33,
     "metadata": {},
     "output_type": "execute_result"
    }
   ],
   "source": [
    "pd.DataFrame([tome_errors], columns=tome_labels, index=['error'])"
   ]
  },
  {
   "cell_type": "markdown",
   "id": "d8beffc0",
   "metadata": {},
   "source": [
    "From this, we see, somewhat surprisingly, that the best method for transcriptomic reconstruction is in fact using the weighted average from the distribution resulting from our reconstruction of Laplacian coefficients. "
   ]
  },
  {
   "cell_type": "code",
   "execution_count": null,
   "id": "f47ef7a4",
   "metadata": {},
   "outputs": [],
   "source": []
  }
 ],
 "metadata": {
  "kernelspec": {
   "display_name": "Python [conda env:rna_sensor] *",
   "language": "python",
   "name": "conda-env-rna_sensor-py"
  },
  "language_info": {
   "codemirror_mode": {
    "name": "ipython",
    "version": 3
   },
   "file_extension": ".py",
   "mimetype": "text/x-python",
   "name": "python",
   "nbconvert_exporter": "python",
   "pygments_lexer": "ipython3",
   "version": "3.9.7"
  }
 },
 "nbformat": 4,
 "nbformat_minor": 5
}
