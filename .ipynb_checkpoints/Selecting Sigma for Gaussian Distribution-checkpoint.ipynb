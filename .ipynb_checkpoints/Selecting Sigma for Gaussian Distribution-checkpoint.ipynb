{
 "cells": [
  {
   "cell_type": "code",
   "execution_count": 43,
   "id": "ebbbb0c4",
   "metadata": {},
   "outputs": [
    {
     "name": "stdout",
     "output_type": "stream",
     "text": [
      "The autoreload extension is already loaded. To reload it, use:\n",
      "  %reload_ext autoreload\n",
      "The dotenv extension is already loaded. To reload it, use:\n",
      "  %reload_ext dotenv\n"
     ]
    }
   ],
   "source": [
    "%load_ext autoreload\n",
    "%autoreload 2\n",
    "\n",
    "%load_ext dotenv\n",
    "%dotenv src/.env\n",
    "\n",
    "%matplotlib inline"
   ]
  },
  {
   "cell_type": "code",
   "execution_count": 2,
   "id": "52bc0ec2",
   "metadata": {},
   "outputs": [],
   "source": [
    "import os\n",
    "os.chdir('/Users/kushagrasharma/coding/hormozlab/src')"
   ]
  },
  {
   "cell_type": "code",
   "execution_count": 3,
   "id": "207b61f8",
   "metadata": {},
   "outputs": [],
   "source": [
    "import numpy as np\n",
    "import pandas as pd\n",
    "import matplotlib.pyplot as plt\n",
    "from scipy.stats import entropy\n",
    "from sklearn.neighbors import NearestNeighbors\n",
    "\n",
    "import torch"
   ]
  },
  {
   "cell_type": "code",
   "execution_count": 4,
   "id": "43fab3e9",
   "metadata": {},
   "outputs": [],
   "source": [
    "from utils import gaussian_centered_on_vertex"
   ]
  },
  {
   "cell_type": "code",
   "execution_count": 5,
   "id": "016de3bb",
   "metadata": {},
   "outputs": [],
   "source": [
    "DATA_DIR = os.environ.get(\"DATA_DIR\")\n",
    "MODELS_DIR = os.environ.get(\"MODELS_DIR\")\n",
    "EPSILON_N_P_I = float(os.environ.get(\"EPSILON_N_P_I\"))\n",
    "device = torch.device(\"cuda\" if torch.cuda.is_available() else \"cpu\")"
   ]
  },
  {
   "cell_type": "code",
   "execution_count": 6,
   "id": "d047e010",
   "metadata": {},
   "outputs": [],
   "source": [
    "train_full = pd.read_csv(DATA_DIR + 'scvi_train_set_gapdh.csv', header=None).to_numpy()\n",
    "train_umap = pd.read_csv(DATA_DIR + 'train_coords.csv', header=None).to_numpy()"
   ]
  },
  {
   "cell_type": "markdown",
   "id": "2836453a",
   "metadata": {},
   "source": [
    "## Systematically Choosing $\\sigma$ for our Gaussian Distribution in Transcriptome Space\n",
    "The target of our reconstruction is a function over transcriptome space. In particular, we aim to reconstruct a Gaussian distribution centered on the target cell. The \"ground truth\" distribution centered on the $j$th cell is thus $p(i)\\propto \\exp(-(\\frac{\\lVert x^{(j)} - x^{(i)} \\rVert}{\\sigma})^2)$ for the $i$th cell. Note that the distance measure is the squared $L^2$ norm in transcriptome space. \n",
    "\n",
    "This begs the question of how to select the standard deviation, $\\sigma$. The purpose of using a Gaussian distribution as opposed to, say, an indicator function is to provide some degree of smoothness around our target cell, but the aim is still for our reconstruction to be highly similar to our target cell. In other words, we want some small number of cells around the target cell to be in our ground truth distribution. To select $\\sigma$, we chose $N=10$ as the number of cells, not including the target cell, to include in our ground truth distribution. \n",
    "\n",
    "One way we could systematically choose $\\sigma$ could be the following method. For a given distribution $p(i)$, we define the number of cells included in the distribution as $N(p(i))=|\\{i\\}|$ for $i$ such that $p(i)$ is nonnegligible, i.e. $p(i)\\geq \\epsilon$ for $\\epsilon=5\\times 10^{-3}$. We could then choose the minimum value of $\\sigma$ such that $N(p(i))\\geq 10$. \n",
    "\n",
    "The value of $\\sigma$ that will give us the desired number of proximal cells in the ground truth distribution will vary by cell, since the local distributions of cells in transcriptome space varies, both in our dataset and biologically. Thus, we wanted to investigate the degree of variance in this respect for our dataset. We begin by considering the distribution of $N(p(i))$ for $\\sigma=5$ over the cells in our training set.  "
   ]
  },
  {
   "cell_type": "code",
   "execution_count": 7,
   "id": "6090bedb",
   "metadata": {},
   "outputs": [],
   "source": [
    "gaussian_train_sigma_5 = np.load(DATA_DIR + 'precomputed_gaussian_sigma_5.npy')"
   ]
  },
  {
   "cell_type": "code",
   "execution_count": 8,
   "id": "5ede5817",
   "metadata": {},
   "outputs": [],
   "source": [
    "N_p_i = lambda x: (x > EPSILON_N_P_I).sum()\n",
    "\n",
    "N_gaussian_5 = np.apply_along_axis(N_p_i, 1, gaussian_train_sigma_5)"
   ]
  },
  {
   "cell_type": "code",
   "execution_count": 9,
   "id": "03b20a2b",
   "metadata": {},
   "outputs": [
    {
     "data": {
      "text/plain": [
       "Text(0.5, 1.0, 'Distribution over $N(p(i))$ for $\\\\sigma=5$')"
      ]
     },
     "execution_count": 9,
     "metadata": {},
     "output_type": "execute_result"
    }
   ],
   "source": [
    "plt.hist(N_gaussian_5, density=True, bins=30, stacked=True)  # density=False would make counts\n",
    "plt.ylabel(r'Density')\n",
    "plt.xlabel(r'$N(p(i))$');\n",
    "plt.title(r'Distribution over $N(p(i))$ for $\\sigma=5$')"
   ]
  },
  {
   "cell_type": "markdown",
   "id": "6fbc3f7e",
   "metadata": {},
   "source": [
    "The above results indicate that there are a large number of cells that require a significantly larger value of $\\sigma$ to have an acceptable $N(p(i))$. There is a large amount of variance in $N(p(i))$ in general for $\\sigma=5$. This indicates to us that we'll need to choose custom values of $\\sigma$ for each cell that meet our desired criteria. \n",
    "\n",
    "One way we could do this could be, as previously mentioned, to run a binary search for the minimum value of $\\sigma$ such that our criteria, $N(p(i))\\geq 10$, is met. Unfortunately, $N(p(i))$ is not monotonic in $\\sigma$. We can see this by noting that for $\\sigma\\rightarrow \\infty$, we get a uniform distribution, with all probabilities lower than our threshold, and $N(p(i))=0$. This can also be seen in the below graph of the distribution of $N(p(i))$ with $\\sigma=100$. "
   ]
  },
  {
   "cell_type": "code",
   "execution_count": 10,
   "id": "3ef2f706",
   "metadata": {},
   "outputs": [],
   "source": [
    "gaussian_sigma_100 = gaussian_train_sigma_5 = np.load(DATA_DIR + 'precomputed_gaussian_sigma_100.npy')\n",
    "\n",
    "N_gaussian_100 = np.apply_along_axis(N_p_i, 1, gaussian_sigma_100)"
   ]
  },
  {
   "cell_type": "code",
   "execution_count": 11,
   "id": "f209811d",
   "metadata": {},
   "outputs": [
    {
     "data": {
      "text/plain": [
       "Text(0.5, 1.0, 'Distribution over $N(p(i))$ for $\\\\sigma=100$')"
      ]
     },
     "execution_count": 11,
     "metadata": {},
     "output_type": "execute_result"
    }
   ],
   "source": [
    "plt.hist(N_gaussian_100, density=True, bins=30, stacked=True)  # density=False would make counts\n",
    "plt.ylabel(r'Density')\n",
    "plt.xlabel(r'$N(p(i))$');\n",
    "plt.title(r'Distribution over $N(p(i))$ for $\\sigma=100$')"
   ]
  },
  {
   "cell_type": "markdown",
   "id": "f77b3112",
   "metadata": {},
   "source": [
    "Thus, $N(p(i))$ is not an appropriate metric to search over. One could alternatively search using a function that is monotonic in $\\sigma$, for example, the entropy, or the number of cells inside the $2\\sigma$ interval. We instead choose an elegant exact method, which is setting $\\sigma_j=\\lVert x^{(j)}-x^{(j)}_{10}\\rVert$ where $x^{(j)}_{10}$ is the $10$th nearest neighbor to $x^{(j)}$. This functionally creates a distribution with 10 cells in the $\\approx 95\\%$ interval from the mean.\n",
    "\n",
    "We now set $\\sigma_j$ to the above value. To ensure that this setting gives us the desired results, we plot the distribution of the number of cells in the $95\\%$ interval, the distribution of the entropy for each distribution, and for the sake of consistency with our previous metric, the distribution of $N(p(i))$. "
   ]
  },
  {
   "cell_type": "code",
   "execution_count": 12,
   "id": "39cc7ede",
   "metadata": {},
   "outputs": [],
   "source": [
    "gaussian_sigma_2sd = np.load(DATA_DIR + 'precomputed_gaussian_sigma_10thNN.npy')"
   ]
  },
  {
   "cell_type": "code",
   "execution_count": 13,
   "id": "590822b6",
   "metadata": {},
   "outputs": [],
   "source": [
    "def n_cells_in_density(distribution, density):\n",
    "    n_cells = 0\n",
    "    distribution = -np.sort(-distribution)\n",
    "    cum_density = 0\n",
    "    for p in distribution:\n",
    "        cum_density += p\n",
    "        n_cells += 1\n",
    "        if cum_density >= density:\n",
    "            return n_cells\n",
    "    return n_cells"
   ]
  },
  {
   "cell_type": "code",
   "execution_count": 48,
   "id": "7afeb621",
   "metadata": {},
   "outputs": [
    {
     "data": {
      "text/plain": [
       "Text(0.5, 1.0, 'Distribution over Number of cells in $95\\\\%$ Interval for Systematic $\\\\sigma$')"
      ]
     },
     "execution_count": 48,
     "metadata": {},
     "output_type": "execute_result"
    },
    {
     "data": {
      "image/png": "[encoded data removed]",
      "text/plain": [
       "<Figure size 432x288 with 1 Axes>"
      ]
     },
     "metadata": {
      "needs_background": "light"
     },
     "output_type": "display_data"
    }
   ],
   "source": [
    "n_cells_95_interval = np.apply_along_axis(lambda x: n_cells_in_density(x, .95), 1, gaussian_sigma_2sd)\n",
    "\n",
    "plt.hist(n_cells_95_interval, density=False, bins=30)  # density=False would make counts\n",
    "plt.ylabel(r'Density')\n",
    "plt.xlabel(r'Number of cells in $95\\%$ Interval');\n",
    "plt.title(r'Distribution over Number of cells in $95\\%$ Interval for Systematic $\\sigma$')"
   ]
  },
  {
   "cell_type": "code",
   "execution_count": 49,
   "id": "ae501331",
   "metadata": {},
   "outputs": [
    {
     "data": {
      "text/plain": [
       "Text(0.5, 1.0, 'Distribution over $N(p(i))$ for Systematic $\\\\sigma$')"
      ]
     },
     "execution_count": 49,
     "metadata": {},
     "output_type": "execute_result"
    },
    {
     "data": {
      "image/png": "[encoded data removed]",
      "text/plain": [
       "<Figure size 432x288 with 1 Axes>"
      ]
     },
     "metadata": {
      "needs_background": "light"
     },
     "output_type": "display_data"
    }
   ],
   "source": [
    "N_gaussian_sigma_2sd = np.apply_along_axis(N_p_i, 1, gaussian_sigma_2sd)\n",
    "plt.hist(N_gaussian_5, density=True, bins=30, stacked=True)  # density=False would make counts\n",
    "plt.ylabel(r'Density')\n",
    "plt.xlabel(r'$N(p(i))$');\n",
    "plt.title(r'Distribution over $N(p(i))$ for Systematic $\\sigma$')"
   ]
  },
  {
   "cell_type": "code",
   "execution_count": 50,
   "id": "e313347b",
   "metadata": {},
   "outputs": [
    {
     "data": {
      "text/plain": [
       "Text(0.5, 1.0, 'Distribution over Entropy for Ground Truth Distribution with Systematic $\\\\sigma$')"
      ]
     },
     "execution_count": 50,
     "metadata": {},
     "output_type": "execute_result"
    },
    {
     "data": {
      "image/png": "[encoded data removed]",
      "text/plain": [
       "<Figure size 432x288 with 1 Axes>"
      ]
     },
     "metadata": {
      "needs_background": "light"
     },
     "output_type": "display_data"
    }
   ],
   "source": [
    "n_cells_95_entropy = np.apply_along_axis(entropy, 1, gaussian_sigma_2sd)\n",
    "\n",
    "plt.hist(n_cells_95_entropy, density=True, bins=30, stacked=True)  # density=False would make counts\n",
    "plt.ylabel(r'Density')\n",
    "plt.xlabel(r'Entropy of Distribution');\n",
    "plt.title(r'Distribution over Entropy for Ground Truth Distribution with Systematic $\\sigma$')"
   ]
  },
  {
   "cell_type": "markdown",
   "id": "b6aff6e4",
   "metadata": {},
   "source": [
    "Unfortunately, as can be seen in the first figure, there is still more variance in the number of cells with non-negligible ground truth distribution probabilites that we'd like. We can examine why this is the case by looking in more detail at, for example, the cell at the rightmost end of the distribution, with $N=3415$ cells included in its $95\\%$ confidence interval. We can first examine the summary statistics of the distribution."
   ]
  },
  {
   "cell_type": "code",
   "execution_count": 34,
   "id": "8407e07d",
   "metadata": {},
   "outputs": [],
   "source": [
    "max_idx = n_cells_95_interval.argmax()"
   ]
  },
  {
   "cell_type": "code",
   "execution_count": 35,
   "id": "653d18a8",
   "metadata": {},
   "outputs": [
    {
     "data": {
      "text/html": [
       "<div>\n",
       "<style scoped>\n",
       "    .dataframe tbody tr th:only-of-type {\n",
       "        vertical-align: middle;\n",
       "    }\n",
       "\n",
       "    .dataframe tbody tr th {\n",
       "        vertical-align: top;\n",
       "    }\n",
       "\n",
       "    .dataframe thead th {\n",
       "        text-align: right;\n",
       "    }\n",
       "</style>\n",
       "<table border=\"1\" class=\"dataframe\">\n",
       "  <thead>\n",
       "    <tr style=\"text-align: right;\">\n",
       "      <th></th>\n",
       "      <th>0</th>\n",
       "    </tr>\n",
       "  </thead>\n",
       "  <tbody>\n",
       "    <tr>\n",
       "      <th>count</th>\n",
       "      <td>3595.000000</td>\n",
       "    </tr>\n",
       "    <tr>\n",
       "      <th>mean</th>\n",
       "      <td>0.000278</td>\n",
       "    </tr>\n",
       "    <tr>\n",
       "      <th>std</th>\n",
       "      <td>0.000011</td>\n",
       "    </tr>\n",
       "    <tr>\n",
       "      <th>min</th>\n",
       "      <td>0.000267</td>\n",
       "    </tr>\n",
       "    <tr>\n",
       "      <th>25%</th>\n",
       "      <td>0.000277</td>\n",
       "    </tr>\n",
       "    <tr>\n",
       "      <th>50%</th>\n",
       "      <td>0.000277</td>\n",
       "    </tr>\n",
       "    <tr>\n",
       "      <th>75%</th>\n",
       "      <td>0.000277</td>\n",
       "    </tr>\n",
       "    <tr>\n",
       "      <th>max</th>\n",
       "      <td>0.000785</td>\n",
       "    </tr>\n",
       "  </tbody>\n",
       "</table>\n",
       "</div>"
      ],
      "text/plain": [
       "                 0\n",
       "count  3595.000000\n",
       "mean      0.000278\n",
       "std       0.000011\n",
       "min       0.000267\n",
       "25%       0.000277\n",
       "50%       0.000277\n",
       "75%       0.000277\n",
       "max       0.000785"
      ]
     },
     "execution_count": 35,
     "metadata": {},
     "output_type": "execute_result"
    }
   ],
   "source": [
    "pd.DataFrame(gaussian_sigma_2sd[max_idx]).describe()"
   ]
  },
  {
   "cell_type": "markdown",
   "id": "aeaf8458",
   "metadata": {},
   "source": [
    "It appears that we have a highly uniform distribution. To understand why, we look at the distances of the $10$ nearest neighbors to the outlier cell relative to the median cell with respect to the confidence interval distribution, which will give us insight into $\\sigma$ for the underlying distribution. "
   ]
  },
  {
   "cell_type": "code",
   "execution_count": 36,
   "id": "d6f1c1b7",
   "metadata": {},
   "outputs": [],
   "source": [
    "neigh = NearestNeighbors(n_neighbors=10, n_jobs=-1)\n",
    "neigh.fit(train_full)\n",
    "neighbors = neigh.kneighbors(train_full, return_distance=True)"
   ]
  },
  {
   "cell_type": "code",
   "execution_count": 51,
   "id": "75b2375d",
   "metadata": {},
   "outputs": [
    {
     "data": {
      "text/plain": [
       "<matplotlib.legend.Legend at 0x14d4b3e80>"
      ]
     },
     "execution_count": 51,
     "metadata": {},
     "output_type": "execute_result"
    },
    {
     "data": {
      "image/png": "[encoded data removed]",
      "text/plain": [
       "<Figure size 432x288 with 1 Axes>"
      ]
     },
     "metadata": {
      "needs_background": "light"
     },
     "output_type": "display_data"
    }
   ],
   "source": [
    "med_idx = n_cells_95_interval[np.percentile(n_cells_95_interval,50,interpolation='nearest')]\n",
    "ind = np.arange(len(neighbors[0][max_idx])) \n",
    "width = 0.35\n",
    "plt.bar(ind, neighbors[0][max_idx], width, label='Outlier Cell')\n",
    "plt.bar(ind + width, neighbors[0][med_idx], width,\n",
    "    label='Median Cell')\n",
    "\n",
    "plt.ylabel('Distance to Kth Nearest Neighbor')\n",
    "plt.title('Comparison of KNN Distance for $K=10$, Outlier and Median Cell')\n",
    "\n",
    "plt.xlabel(\"K\")\n",
    "plt.legend(loc='best')"
   ]
  },
  {
   "cell_type": "markdown",
   "id": "450cd5a5",
   "metadata": {},
   "source": [
    "As we can see, there's huge variance in distance to the $10$th nearest neighbor (and nearest neighbors in general), with our outlier cell being very far away from all cells. Note that even the median cell plotted here has $\\approx N=200$ cells in its $95\\%$ confidence interval. Thus, our solution is to truncate the distribution for each cell at the $11$ highest probability cells ($10$ plus the true cell), appropriately normalized. "
   ]
  },
  {
   "cell_type": "code",
   "execution_count": 38,
   "id": "76f96196",
   "metadata": {},
   "outputs": [],
   "source": [
    "truncated_idxs = np.argsort(-gaussian_sigma_2sd, axis=1)[:,11:]\n",
    "truncated_gaussian = np.copy(gaussian_sigma_2sd)"
   ]
  },
  {
   "cell_type": "code",
   "execution_count": 39,
   "id": "218bcde1",
   "metadata": {},
   "outputs": [],
   "source": [
    "for i in range(len(gaussian_sigma_2sd)):\n",
    "    truncated_gaussian[i,:][truncated_idxs[i,:]] = 0 \n",
    "    truncated_gaussian[i,:] /= truncated_gaussian[i,:].sum()\n",
    "    \n",
    "np.save(DATA_DIR + 'truncated_gaussian_sigma_10thNN.npy', truncated_gaussian)"
   ]
  },
  {
   "cell_type": "markdown",
   "id": "76a864b1",
   "metadata": {},
   "source": [
    "We can now visualize the resulting distributions by plotting probabilities on a UMAP visualzation for a few cells. Below we examine the outlier cell, the median cell, and a randomly selected cell. "
   ]
  },
  {
   "cell_type": "code",
   "execution_count": 45,
   "id": "40af4e4a",
   "metadata": {},
   "outputs": [
    {
     "data": {
      "text/plain": [
       "Text(0.5, 1.0, 'Gaussian on UMAP Cells for Outlier Cell')"
      ]
     },
     "execution_count": 45,
     "metadata": {},
     "output_type": "execute_result"
    },
    {
     "data": {
      "image/png": "[encoded data removed]",
      "text/plain": [
       "<Figure size 432x288 with 1 Axes>"
      ]
     },
     "metadata": {
      "needs_background": "light"
     },
     "output_type": "display_data"
    }
   ],
   "source": [
    "plt.scatter(train_umap[:,0], train_umap[:,1], c=truncated_gaussian[max_idx,:], cmap='Greens')\n",
    "plt.title(r'Gaussian on UMAP Cells for Outlier Cell')"
   ]
  },
  {
   "cell_type": "code",
   "execution_count": 46,
   "id": "5b8c897b",
   "metadata": {},
   "outputs": [
    {
     "data": {
      "text/plain": [
       "Text(0.5, 1.0, 'Gaussian on UMAP Cells for Outlier Cell')"
      ]
     },
     "execution_count": 46,
     "metadata": {},
     "output_type": "execute_result"
    },
    {
     "data": {
      "image/png": "[encoded data removed]",
      "text/plain": [
       "<Figure size 432x288 with 1 Axes>"
      ]
     },
     "metadata": {
      "needs_background": "light"
     },
     "output_type": "display_data"
    }
   ],
   "source": [
    "plt.scatter(train_umap[:,0], train_umap[:,1], c=truncated_gaussian[med_idx,:], cmap='Greens')\n",
    "plt.title(r'Gaussian on UMAP Cells for Outlier Cell')"
   ]
  },
  {
   "cell_type": "code",
   "execution_count": 47,
   "id": "34e6a64d",
   "metadata": {},
   "outputs": [
    {
     "data": {
      "text/plain": [
       "Text(0.5, 1.0, 'Gaussian on UMAP Cells for Random Cell')"
      ]
     },
     "execution_count": 47,
     "metadata": {},
     "output_type": "execute_result"
    },
    {
     "data": {
      "image/png": "[encoded data removed]",
      "text/plain": [
       "<Figure size 432x288 with 1 Axes>"
      ]
     },
     "metadata": {
      "needs_background": "light"
     },
     "output_type": "display_data"
    }
   ],
   "source": [
    "plt.scatter(train_umap[:,0], train_umap[:,1], c=truncated_gaussian[np.random.randint(0, len(train_full)),:], cmap='Greens')\n",
    "plt.title(r'Gaussian on UMAP Cells for Random Cell')"
   ]
  },
  {
   "cell_type": "markdown",
   "id": "1f851390",
   "metadata": {},
   "source": [
    "As we can see, the resulting distributions are not perfect but are decently localized and peaked on the target cell. Note that UMAP visualizations themselves make assumptions about cell-cell distances and thus distance on a UMAP plot is not necessarily equivalent to biologically-relevant distance in transcriptome space. We can see this by plotting key marker genes and seeing non-perfect localization, as is done in our section on choosing $K$ for our $K$NNG."
   ]
  },
  {
   "cell_type": "code",
   "execution_count": null,
   "id": "65bea344",
   "metadata": {},
   "outputs": [],
   "source": []
  }
 ],
 "metadata": {
  "kernelspec": {
   "display_name": "Python [conda env:rna_sensor] *",
   "language": "python",
   "name": "conda-env-rna_sensor-py"
  },
  "language_info": {
   "codemirror_mode": {
    "name": "ipython",
    "version": 3
   },
   "file_extension": ".py",
   "mimetype": "text/x-python",
   "name": "python",
   "nbconvert_exporter": "python",
   "pygments_lexer": "ipython3",
   "version": "3.9.7"
  }
 },
 "nbformat": 4,
 "nbformat_minor": 5
}
